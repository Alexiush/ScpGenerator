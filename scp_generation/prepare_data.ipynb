{
 "cells": [
  {
   "cell_type": "code",
   "execution_count": 17,
   "metadata": {},
   "outputs": [],
   "source": [
    "import numpy as np\n",
    "import pandas as pd\n",
    "import os"
   ]
  },
  {
   "cell_type": "code",
   "execution_count": 18,
   "metadata": {},
   "outputs": [],
   "source": [
    "path_to_df = os.path.abspath(\"data/scp6999.csv\")\n",
    "df = pd.read_csv(path_to_df, encoding='utf-8')"
   ]
  },
  {
   "cell_type": "code",
   "execution_count": 19,
   "metadata": {},
   "outputs": [
    {
     "name": "stdout",
     "output_type": "stream",
     "text": [
      "<class 'pandas.core.frame.DataFrame'>\n",
      "RangeIndex: 6999 entries, 0 to 6998\n",
      "Data columns (total 8 columns):\n",
      " #   Column          Non-Null Count  Dtype  \n",
      "---  ------          --------------  -----  \n",
      " 0   code            6999 non-null   object \n",
      " 1   title           6999 non-null   object \n",
      " 2   text            6999 non-null   object \n",
      " 3   image captions  3105 non-null   object \n",
      " 4   rating          6611 non-null   float64\n",
      " 5   state           6999 non-null   object \n",
      " 6   tags            6596 non-null   object \n",
      " 7   link            6999 non-null   object \n",
      "dtypes: float64(1), object(7)\n",
      "memory usage: 437.6+ KB\n"
     ]
    },
    {
     "data": {
      "text/html": [
       "<div>\n",
       "<style scoped>\n",
       "    .dataframe tbody tr th:only-of-type {\n",
       "        vertical-align: middle;\n",
       "    }\n",
       "\n",
       "    .dataframe tbody tr th {\n",
       "        vertical-align: top;\n",
       "    }\n",
       "\n",
       "    .dataframe thead th {\n",
       "        text-align: right;\n",
       "    }\n",
       "</style>\n",
       "<table border=\"1\" class=\"dataframe\">\n",
       "  <thead>\n",
       "    <tr style=\"text-align: right;\">\n",
       "      <th></th>\n",
       "      <th>code</th>\n",
       "      <th>title</th>\n",
       "      <th>text</th>\n",
       "      <th>image captions</th>\n",
       "      <th>rating</th>\n",
       "      <th>state</th>\n",
       "      <th>tags</th>\n",
       "      <th>link</th>\n",
       "    </tr>\n",
       "  </thead>\n",
       "  <tbody>\n",
       "    <tr>\n",
       "      <th>4854</th>\n",
       "      <td>SCP-4855</td>\n",
       "      <td>\"Mind Like a Steel Trap\"</td>\n",
       "      <td>\"SCP-4855: \"Mind Like a Steel Trap\" \\n Author:...</td>\n",
       "      <td>\"SCP-4855, at time of recovery.\"</td>\n",
       "      <td>133.0</td>\n",
       "      <td>active</td>\n",
       "      <td>_cc alive cognitohazard deepwell-catalog eucli...</td>\n",
       "      <td>https://scp-wiki.wikidot.com/scp-4855</td>\n",
       "    </tr>\n",
       "  </tbody>\n",
       "</table>\n",
       "</div>"
      ],
      "text/plain": [
       "          code                     title  \\\n",
       "4854  SCP-4855  \"Mind Like a Steel Trap\"   \n",
       "\n",
       "                                                   text  \\\n",
       "4854  \"SCP-4855: \"Mind Like a Steel Trap\" \\n Author:...   \n",
       "\n",
       "                        image captions  rating   state  \\\n",
       "4854  \"SCP-4855, at time of recovery.\"   133.0  active   \n",
       "\n",
       "                                                   tags  \\\n",
       "4854  _cc alive cognitohazard deepwell-catalog eucli...   \n",
       "\n",
       "                                       link  \n",
       "4854  https://scp-wiki.wikidot.com/scp-4855  "
      ]
     },
     "execution_count": 19,
     "metadata": {},
     "output_type": "execute_result"
    }
   ],
   "source": [
    "df.info()\n",
    "df.sample(1)"
   ]
  },
  {
   "cell_type": "code",
   "execution_count": 20,
   "metadata": {},
   "outputs": [
    {
     "data": {
      "text/html": [
       "<div>\n",
       "<style scoped>\n",
       "    .dataframe tbody tr th:only-of-type {\n",
       "        vertical-align: middle;\n",
       "    }\n",
       "\n",
       "    .dataframe tbody tr th {\n",
       "        vertical-align: top;\n",
       "    }\n",
       "\n",
       "    .dataframe thead th {\n",
       "        text-align: right;\n",
       "    }\n",
       "</style>\n",
       "<table border=\"1\" class=\"dataframe\">\n",
       "  <thead>\n",
       "    <tr style=\"text-align: right;\">\n",
       "      <th></th>\n",
       "      <th>code</th>\n",
       "      <th>title</th>\n",
       "      <th>text</th>\n",
       "    </tr>\n",
       "  </thead>\n",
       "  <tbody>\n",
       "    <tr>\n",
       "      <th>6898</th>\n",
       "      <td>SCP-6899</td>\n",
       "      <td>\"A Little Piece Of Me\"</td>\n",
       "      <td>\"SPECIAL CONTAINMENT PROCEDURES: \\n SCP-6899 i...</td>\n",
       "    </tr>\n",
       "  </tbody>\n",
       "</table>\n",
       "</div>"
      ],
      "text/plain": [
       "          code                   title  \\\n",
       "6898  SCP-6899  \"A Little Piece Of Me\"   \n",
       "\n",
       "                                                   text  \n",
       "6898  \"SPECIAL CONTAINMENT PROCEDURES: \\n SCP-6899 i...  "
      ]
     },
     "execution_count": 20,
     "metadata": {},
     "output_type": "execute_result"
    }
   ],
   "source": [
    "useful_df = df[['code', 'title', 'text']]\n",
    "useful_df.sample(1)"
   ]
  },
  {
   "cell_type": "code",
   "execution_count": 21,
   "metadata": {},
   "outputs": [],
   "source": [
    "def get_description(s: str):\n",
    "    tags = ['Description:', 'Object Class:', 'Special Containment Procedures:']\n",
    "\n",
    "    lines = list(map(lambda x: x.strip(), s.splitlines()))\n",
    "    description = list(filter(lambda x: any(map(lambda tag: x[:len(tag)] == tag, tags)), lines))\n",
    "\n",
    "    return '\\n☺'.join(description) if description else None"
   ]
  },
  {
   "cell_type": "code",
   "execution_count": 22,
   "metadata": {},
   "outputs": [
    {
     "name": "stderr",
     "output_type": "stream",
     "text": [
      "C:\\Users\\strel\\AppData\\Local\\Temp\\ipykernel_10376\\3828147008.py:1: SettingWithCopyWarning: \n",
      "A value is trying to be set on a copy of a slice from a DataFrame.\n",
      "Try using .loc[row_indexer,col_indexer] = value instead\n",
      "\n",
      "See the caveats in the documentation: https://pandas.pydata.org/pandas-docs/stable/user_guide/indexing.html#returning-a-view-versus-a-copy\n",
      "  useful_df['text'] = useful_df['text'].apply(lambda x: get_description(x))\n"
     ]
    },
    {
     "data": {
      "text/html": [
       "<div>\n",
       "<style scoped>\n",
       "    .dataframe tbody tr th:only-of-type {\n",
       "        vertical-align: middle;\n",
       "    }\n",
       "\n",
       "    .dataframe tbody tr th {\n",
       "        vertical-align: top;\n",
       "    }\n",
       "\n",
       "    .dataframe thead th {\n",
       "        text-align: right;\n",
       "    }\n",
       "</style>\n",
       "<table border=\"1\" class=\"dataframe\">\n",
       "  <thead>\n",
       "    <tr style=\"text-align: right;\">\n",
       "      <th></th>\n",
       "      <th>code</th>\n",
       "      <th>title</th>\n",
       "      <th>text</th>\n",
       "    </tr>\n",
       "  </thead>\n",
       "  <tbody>\n",
       "    <tr>\n",
       "      <th>1682</th>\n",
       "      <td>SCP-1683</td>\n",
       "      <td>\"Moonstruck Bedroom\"</td>\n",
       "      <td>Object Class: Safe\\n☺Special Containment Proce...</td>\n",
       "    </tr>\n",
       "  </tbody>\n",
       "</table>\n",
       "</div>"
      ],
      "text/plain": [
       "          code                 title  \\\n",
       "1682  SCP-1683  \"Moonstruck Bedroom\"   \n",
       "\n",
       "                                                   text  \n",
       "1682  Object Class: Safe\\n☺Special Containment Proce...  "
      ]
     },
     "execution_count": 22,
     "metadata": {},
     "output_type": "execute_result"
    }
   ],
   "source": [
    "useful_df['text'] = useful_df['text'].apply(lambda x: get_description(x))\n",
    "useful_df = useful_df[useful_df['text'].notna()]\n",
    "useful_df.sample(1)"
   ]
  },
  {
   "cell_type": "code",
   "execution_count": 23,
   "metadata": {},
   "outputs": [
    {
     "data": {
      "text/plain": [
       "4172    ☺SCP-4173\\n☺\"The House on Hadley Hill\"\\n☺Speci...\n",
       "dtype: object"
      ]
     },
     "execution_count": 23,
     "metadata": {},
     "output_type": "execute_result"
    }
   ],
   "source": [
    "texts_df = useful_df.apply(lambda x: '\\n'.join(list(map(lambda y: '☺' + y, x))), axis=1)\n",
    "texts_df.sample(1)"
   ]
  },
  {
   "cell_type": "code",
   "execution_count": 24,
   "metadata": {},
   "outputs": [
    {
     "name": "stdout",
     "output_type": "stream",
     "text": [
      "<class 'pandas.core.series.Series'>\n",
      "Int64Index: 6091 entries, 1 to 6998\n",
      "Series name: None\n",
      "Non-Null Count  Dtype \n",
      "--------------  ----- \n",
      "6091 non-null   object\n",
      "dtypes: object(1)\n",
      "memory usage: 95.2+ KB\n"
     ]
    }
   ],
   "source": [
    "reduced_vocab = ['\\n', '\\r', ' ', '!', '\"', '#', '$', '%', '&', \"'\", '(', ')', '*', '+', ',', '-', '.', '/', '0', '1', '2', '3', '4', '5', '6', '7', '8', '9', ':', ';', '<', '=', '>', '?', '@', 'A', 'B', 'C', 'D', 'E', 'F', 'G', 'H', 'I', 'J', 'K', 'L', 'M', 'N', 'O', 'P', 'Q', 'R', 'S', 'T', 'U', 'V', 'W', 'X', 'Y', 'Z', '[', '\\\\', ']', '^', '_', 'a', 'b', 'c', 'd', 'e', 'f', 'g', 'h', 'i', 'j', 'k', 'l', 'm', 'n', 'o', 'p', 'q', 'r', 's', 't', 'u', 'v', 'w', 'x', 'y', 'z', '{', '|', '}', '~', '\\xa0', '¢', '£', '§', '©', '®', '°', '±', '²', '³', '´', 'µ', 'º', '¼', '½', '¾', 'Æ', 'É', 'Ó', '×', 'Ø', 'Ü', 'ß', 'á', 'æ', 'é', 'í', 'ï', 'ð', 'ó', '÷', 'ø', 'ú', 'þ', 'ć', 'ı', 'ś', 'ź', 'Ɣ', 'Ɵ', 'Ʒ', 'Ƹ', 'ə', 'ʊ', 'ˈ', '˚', 'Δ', 'Ι', 'Σ', 'Ω', 'α', 'β', 'γ', 'δ', 'ε', 'η', 'θ', 'λ', 'μ', 'ν', 'ο', 'π', 'ρ', 'ς', 'σ', 'τ', 'υ', 'ψ', 'ω', '‑', '–', '—', '‘', '’', '“', '”', '†', '•', '…', '′', '″', '€', '℃', '℞', '™', 'Ⅱ', '∆', '−', '∞', '≈', '≡', '≤', '≥', '⊃', '█', '☺', '⚠', '➡',]\n",
    "set_vocab = set(reduced_vocab)\n",
    "\n",
    "texts_df = texts_df.apply(lambda x: x if set(x).issubset(set_vocab) else None)\n",
    "texts_df = texts_df.dropna()\n",
    "texts_df.info()"
   ]
  },
  {
   "cell_type": "code",
   "execution_count": 25,
   "metadata": {},
   "outputs": [],
   "source": [
    "path_to_file = r\"data\\scp6999.txt\"\n",
    "np.savetxt(path_to_file, texts_df.values, fmt='%s', newline=\"\\n\\n\\n\", encoding=\"utf-8\")"
   ]
  }
 ],
 "metadata": {
  "kernelspec": {
   "display_name": "tf",
   "language": "python",
   "name": "python3"
  },
  "language_info": {
   "codemirror_mode": {
    "name": "ipython",
    "version": 3
   },
   "file_extension": ".py",
   "mimetype": "text/x-python",
   "name": "python",
   "nbconvert_exporter": "python",
   "pygments_lexer": "ipython3",
   "version": "3.9.15"
  },
  "orig_nbformat": 4,
  "vscode": {
   "interpreter": {
    "hash": "1878e3e05d455931b665703cb969c1635478e5bf1dd61c754cddfdfaba9f0c08"
   }
  }
 },
 "nbformat": 4,
 "nbformat_minor": 2
}
